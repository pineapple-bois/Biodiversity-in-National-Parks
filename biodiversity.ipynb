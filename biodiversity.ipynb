{
 "cells": [
  {
   "cell_type": "markdown",
   "source": [
    "# Biodiversity in U.S. National Parks"
   ],
   "metadata": {
    "collapsed": false
   }
  },
  {
   "cell_type": "markdown",
   "source": [
    "Importing the necessary modules"
   ],
   "metadata": {
    "collapsed": false
   }
  },
  {
   "cell_type": "code",
   "execution_count": 178,
   "metadata": {},
   "outputs": [],
   "source": [
    "import pandas as pd\n",
    "import matplotlib.pyplot as plt\n",
    "import numpy as np\n",
    "import seaborn as sns"
   ]
  },
  {
   "cell_type": "markdown",
   "source": [
    "## Loading in the data\n",
    "\n",
    "There are two .csv files to inspect"
   ],
   "metadata": {
    "collapsed": false
   }
  },
  {
   "cell_type": "markdown",
   "source": [
    "----"
   ],
   "metadata": {
    "collapsed": false
   }
  },
  {
   "cell_type": "markdown",
   "source": [
    "## Observations\n",
    "\n",
    "The `observations.csv` contains data about different species and their conservation status\n",
    "\n",
    "- `scientific_name` - the scientific name of each species\n",
    "- `park_name` - National Park where species were found\n",
    "- `observations` - the number of times each species was observed at park in the past 7 days\n"
   ],
   "metadata": {
    "collapsed": false
   }
  },
  {
   "cell_type": "code",
   "execution_count": 179,
   "outputs": [
    {
     "name": "stdout",
     "output_type": "stream",
     "text": [
      "Columns: ['scientific_name', 'park_name', 'observations']\n",
      "\n"
     ]
    }
   ],
   "source": [
    "obs_data = pd.read_csv(\"observations.csv\")\n",
    "print(f\"Columns: {obs_data.columns.tolist()}\\n\")"
   ],
   "metadata": {
    "collapsed": false
   }
  },
  {
   "cell_type": "code",
   "execution_count": 180,
   "outputs": [
    {
     "name": "stdout",
     "output_type": "stream",
     "text": [
      "The first few entries in the Dataframe:\n",
      "\n",
      "            scientific_name                            park_name  observations\n",
      "0        Vicia benghalensis  Great Smoky Mountains National Park            68\n",
      "1            Neovison vison  Great Smoky Mountains National Park            77\n",
      "2         Prunus subcordata               Yosemite National Park           138\n",
      "3      Abutilon theophrasti                  Bryce National Park            84\n",
      "4  Githopsis specularioides  Great Smoky Mountains National Park            85\n",
      "\n",
      "(Rows, Columns): (23296, 3)\n",
      "\n",
      "Data types: \n",
      "scientific_name    object\n",
      "park_name          object\n",
      "observations        int64\n",
      "dtype: object\n"
     ]
    }
   ],
   "source": [
    "print(f\"The first few entries in the Dataframe:\\n\\n{obs_data.head()}\\n\")\n",
    "print(f\"(Rows, Columns): {obs_data.shape}\\n\")\n",
    "print(f\"Data types: \\n{obs_data.dtypes}\")"
   ],
   "metadata": {
    "collapsed": false
   }
  },
  {
   "cell_type": "code",
   "execution_count": 201,
   "outputs": [
    {
     "name": "stdout",
     "output_type": "stream",
     "text": [
      "National Parks: \n",
      "['Great Smoky Mountains National Park', 'Yosemite National Park', 'Bryce National Park', 'Yellowstone National Park']\n",
      "\n",
      "Unique Species: \n",
      "['Vicia benghalensis' 'Neovison vison' 'Prunus subcordata' ...\n",
      " 'Ranunculus hebecarpus' 'Gulo gulo' 'Dichanthelium depauperatum']\n",
      "\n",
      "We have 5541 unique species\n"
     ]
    }
   ],
   "source": [
    "parks_list = obs_data.park_name.unique().tolist()\n",
    "print(f\"National Parks: \\n{parks_list}\\n\")\n",
    "\n",
    "sci_name = obs_data.scientific_name.unique()\n",
    "print(f\"Unique Species: \\n{sci_name}\\n\")\n",
    "sci_name_list_1 = sci_name.tolist()\n",
    "\n",
    "print(f\"We have {len(sci_name_list_1)} unique species\")"
   ],
   "metadata": {
    "collapsed": false
   }
  },
  {
   "cell_type": "code",
   "execution_count": 182,
   "outputs": [
    {
     "name": "stdout",
     "output_type": "stream",
     "text": [
      "The number of unique values: \n",
      "scientific_name    5541\n",
      "park_name             4\n",
      "observations        304\n",
      "dtype: int64\n",
      "\n"
     ]
    }
   ],
   "source": [
    "print(f\"The number of unique values: \\n{obs_data.nunique()}\\n\")"
   ],
   "metadata": {
    "collapsed": false
   }
  },
  {
   "cell_type": "markdown",
   "source": [
    "We have saved the list variables;\n",
    "\n",
    "`parks_list`\n",
    "which is a list of the National parks.\n",
    "There are four, all in the United States\n",
    "\n",
    "`num_species_list`\n",
    "which is a list of unique species."
   ],
   "metadata": {
    "collapsed": false
   }
  },
  {
   "cell_type": "code",
   "execution_count": 183,
   "outputs": [
    {
     "name": "stdout",
     "output_type": "stream",
     "text": [
      "Number of observations: 3314739\n"
     ]
    }
   ],
   "source": [
    "print(f\"Number of observations: {obs_data.observations.sum()}\")"
   ],
   "metadata": {
    "collapsed": false
   }
  },
  {
   "cell_type": "markdown",
   "source": [
    "That's quite a few sightings in the last seven days!"
   ],
   "metadata": {
    "collapsed": false
   }
  },
  {
   "cell_type": "markdown",
   "source": [
    "----"
   ],
   "metadata": {
    "collapsed": false
   }
  },
  {
   "cell_type": "markdown",
   "source": [
    "## Species\n",
    "\n",
    "The `species_info.csv` contains information on the different species in the National Parks along with their conservation status.\n",
    "\n",
    "`category` - class of animal\n",
    "`scientific_name` - the scientific name of each species\n",
    "`common_name` - the common names of each species\n",
    "`conservation_status` - each species’ current conservation status\n"
   ],
   "metadata": {
    "collapsed": false
   }
  },
  {
   "cell_type": "code",
   "execution_count": 184,
   "outputs": [
    {
     "name": "stdout",
     "output_type": "stream",
     "text": [
      "Columns: ['category', 'scientific_name', 'common_names', 'conservation_status']\n"
     ]
    }
   ],
   "source": [
    "species_data = pd.read_csv(\"species_info.csv\")\n",
    "print(f\"Columns: {species_data.columns.tolist()}\")"
   ],
   "metadata": {
    "collapsed": false
   }
  },
  {
   "cell_type": "code",
   "execution_count": 185,
   "outputs": [
    {
     "name": "stdout",
     "output_type": "stream",
     "text": [
      "  category                scientific_name  \\\n",
      "0   Mammal  Clethrionomys gapperi gapperi   \n",
      "1   Mammal                      Bos bison   \n",
      "2   Mammal                     Bos taurus   \n",
      "3   Mammal                     Ovis aries   \n",
      "4   Mammal                 Cervus elaphus   \n",
      "\n",
      "                                        common_names conservation_status  \n",
      "0                           Gapper's Red-Backed Vole                 NaN  \n",
      "1                              American Bison, Bison                 NaN  \n",
      "2  Aurochs, Aurochs, Domestic Cattle (Feral), Dom...                 NaN  \n",
      "3  Domestic Sheep, Mouflon, Red Sheep, Sheep (Feral)                 NaN  \n",
      "4                                      Wapiti Or Elk                 NaN  \n"
     ]
    }
   ],
   "source": [
    "print(species_data.head())"
   ],
   "metadata": {
    "collapsed": false
   }
  },
  {
   "cell_type": "markdown",
   "source": [
    "We have a few interesting values.\n",
    "Category seems to be genus.\n",
    "we have scientific name -\n",
    "#### need to see if the number of unique values correlates with the other dataframe\n",
    "common names - there seem to be a number\n",
    "conservation status -\n",
    "#### need how many we have 'NaN' which i'm assuming means 'not endangered' - (could be bad assumption)"
   ],
   "metadata": {
    "collapsed": false
   }
  },
  {
   "cell_type": "code",
   "execution_count": 186,
   "outputs": [
    {
     "name": "stdout",
     "output_type": "stream",
     "text": [
      "Shape of the data (Rows, Columns): (5824, 4)\n",
      "\n",
      "Type of data:\n",
      "\n",
      "category               object\n",
      "scientific_name        object\n",
      "common_names           object\n",
      "conservation_status    object\n",
      "dtype: object\n",
      "\n",
      "The number of unique values:\n",
      "\n",
      "category                  7\n",
      "scientific_name        5541\n",
      "common_names           5504\n",
      "conservation_status       4\n",
      "dtype: int64\n"
     ]
    }
   ],
   "source": [
    "print(f\"Shape of the data (Rows, Columns): {species_data.shape}\\n\")\n",
    "print(f\"Type of data:\\n\\n{species_data.dtypes}\\n\")\n",
    "print(f\"The number of unique values:\\n\\n{species_data.nunique()}\")"
   ],
   "metadata": {
    "collapsed": false
   }
  },
  {
   "cell_type": "markdown",
   "source": [
    "It's useful to have a few of the unique column values saved as lists to better see what we're dealing with"
   ],
   "metadata": {
    "collapsed": false
   }
  },
  {
   "cell_type": "code",
   "execution_count": 187,
   "outputs": [
    {
     "name": "stdout",
     "output_type": "stream",
     "text": [
      "Unique Species (Scientific Name): 5541\n",
      "\n",
      "Unique Species (Common Name): 5504\n"
     ]
    }
   ],
   "source": [
    "sci_name_list_2 = species_data.scientific_name.unique()\n",
    "print(f\"Unique Species (Scientific Name): {len(sci_name_list_2)}\\n\")\n",
    "\n",
    "com_name_list = species_data.common_names.unique()\n",
    "print(f\"Unique Species (Common Name): {len(com_name_list)}\")"
   ],
   "metadata": {
    "collapsed": false
   }
  },
  {
   "cell_type": "markdown",
   "source": [
    "I would expect the scientific name/common name to be the same length. There's a discrepancy\n",
    "Maybe some species haven't been given a 'common name'!"
   ],
   "metadata": {
    "collapsed": false
   }
  },
  {
   "cell_type": "markdown",
   "source": [
    "## Explore the `species_info` data"
   ],
   "metadata": {
    "collapsed": false
   }
  },
  {
   "cell_type": "markdown",
   "source": [
    "#### Category\n",
    "\n",
    "Find the number of `category` that are represented in the data."
   ],
   "metadata": {
    "collapsed": false
   }
  },
  {
   "cell_type": "code",
   "execution_count": 188,
   "outputs": [
    {
     "name": "stdout",
     "output_type": "stream",
     "text": [
      "7 Categories:\n",
      "['Mammal' 'Bird' 'Reptile' 'Amphibian' 'Fish' 'Vascular Plant'\n",
      " 'Nonvascular Plant']\n",
      "\n"
     ]
    },
    {
     "data": {
      "text/plain": "category\nAmphibian              80\nBird                  521\nFish                  127\nMammal                214\nNonvascular Plant     333\nReptile                79\nVascular Plant       4470\ndtype: int64"
     },
     "execution_count": 188,
     "metadata": {},
     "output_type": "execute_result"
    }
   ],
   "source": [
    "category_list = species_data.category.unique()\n",
    "print(f\"{len(category_list)} Categories:\\n{category_list}\\n\")\n",
    "species_data.groupby('category').size()"
   ],
   "metadata": {
    "collapsed": false
   }
  },
  {
   "cell_type": "markdown",
   "source": [
    "### Conservation Status\n",
    "\n",
    "Explore the `conservation_status` column"
   ],
   "metadata": {
    "collapsed": false
   }
  },
  {
   "cell_type": "code",
   "execution_count": 189,
   "outputs": [
    {
     "name": "stdout",
     "output_type": "stream",
     "text": [
      "There are 4 categories:\n",
      "\n",
      "[nan 'Species of Concern' 'Endangered' 'Threatened' 'In Recovery']\n"
     ]
    }
   ],
   "source": [
    "print(f\"There are {species_data.conservation_status.nunique()} categories:\\n\\n{species_data.conservation_status.unique()}\")"
   ],
   "metadata": {
    "collapsed": false
   }
  },
  {
   "cell_type": "markdown",
   "source": [
    "Useful to find out how many are NaN"
   ],
   "metadata": {
    "collapsed": false
   }
  },
  {
   "cell_type": "code",
   "execution_count": 190,
   "outputs": [
    {
     "name": "stdout",
     "output_type": "stream",
     "text": [
      "NaN value count: 5633\n",
      "\n",
      "conservation_status\n",
      "Endangered             16\n",
      "In Recovery             4\n",
      "Species of Concern    161\n",
      "Threatened             10\n",
      "dtype: int64\n"
     ]
    }
   ],
   "source": [
    "print(f\"NaN value count: {species_data.conservation_status.isna().sum()}\\n\")\n",
    "print(species_data.groupby(\"conservation_status\").size())"
   ],
   "metadata": {
    "collapsed": false
   }
  },
  {
   "cell_type": "markdown",
   "source": [
    "----"
   ],
   "metadata": {
    "collapsed": false
   }
  },
  {
   "cell_type": "markdown",
   "source": [
    "# Analysis\n",
    "\n"
   ],
   "metadata": {
    "collapsed": false
   }
  },
  {
   "cell_type": "markdown",
   "source": [
    "The column `conservation_status` has values;\n",
    "&nbsp;\n",
    "- `Species of Concern`: declining or appear to be in need of conservation\n",
    "- `Threatened`: vulnerable to endangerment in the near future\n",
    "- `Endangered`: seriously at risk of extinction\n",
    "- `In Recovery`: formerly `Endangered`, but currently neither in danger of extinction throughout all or a significant portion of its range\n",
    "&nbsp;\n",
    "I will change the `NaN` value to 'Least Concern' as per the [International Union for Conservation of Nature](https://en.wikipedia.org/wiki/IUCN_Red_List) classification system"
   ],
   "metadata": {
    "collapsed": false
   }
  },
  {
   "cell_type": "code",
   "execution_count": 191,
   "outputs": [
    {
     "data": {
      "text/plain": "conservation_status\nEndangered              16\nIn Recovery              4\nLeast Concern         5633\nSpecies of Concern     161\nThreatened              10\ndtype: int64"
     },
     "execution_count": 191,
     "metadata": {},
     "output_type": "execute_result"
    }
   ],
   "source": [
    "species_data.fillna('Least Concern', inplace=True)\n",
    "species_data.groupby('conservation_status').size()"
   ],
   "metadata": {
    "collapsed": false
   }
  },
  {
   "cell_type": "code",
   "execution_count": 192,
   "outputs": [
    {
     "name": "stdout",
     "output_type": "stream",
     "text": [
      "Categories nested in conservation_status' column:\n",
      "\n",
      "category             Amphibian  Bird  Fish  Mammal  Nonvascular Plant  \\\n",
      "conservation_status                                                     \n",
      "Endangered                 1.0   4.0   3.0     7.0                NaN   \n",
      "In Recovery                NaN   3.0   NaN     1.0                NaN   \n",
      "Species of Concern         4.0  72.0   4.0    28.0                5.0   \n",
      "Threatened                 2.0   NaN   4.0     2.0                NaN   \n",
      "\n",
      "category             Reptile  Vascular Plant  \n",
      "conservation_status                           \n",
      "Endangered               NaN             1.0  \n",
      "In Recovery              NaN             NaN  \n",
      "Species of Concern       5.0            43.0  \n",
      "Threatened               NaN             2.0  \n"
     ]
    }
   ],
   "source": [
    "conservation_cat = species_data[species_data.conservation_status != 'Least Concern']\\\n",
    "    .groupby(['conservation_status', 'category'])['scientific_name']\\\n",
    "    .count()\\\n",
    "    .unstack()\n",
    "print(f\"Categories nested in conservation_status' column:\\n\\n{conservation_cat}\")"
   ],
   "metadata": {
    "collapsed": false
   }
  },
  {
   "cell_type": "markdown",
   "source": [
    "Birds have the greatest number of 'Species of Concern'"
   ],
   "metadata": {
    "collapsed": false
   }
  },
  {
   "cell_type": "code",
   "execution_count": 193,
   "outputs": [],
   "source": [
    "cons_status_list_temp = species_data.conservation_status.unique().tolist()\n",
    "cons_status_list = cons_status_list_temp[1:]"
   ],
   "metadata": {
    "collapsed": false
   }
  },
  {
   "cell_type": "code",
   "execution_count": 194,
   "outputs": [
    {
     "data": {
      "text/plain": "<Figure size 800x600 with 1 Axes>",
      "image/png": "[encoded data removed]"
     },
     "metadata": {},
     "output_type": "display_data"
    },
    {
     "data": {
      "text/plain": "<Figure size 640x480 with 0 Axes>"
     },
     "metadata": {},
     "output_type": "display_data"
    }
   ],
   "source": [
    "ax = conservation_cat.plot(kind='bar', figsize=(8,6),\n",
    "                           stacked=True)\n",
    "ax.set_xlabel(\"Conservation Status\", fontsize=12)\n",
    "ax.set_ylabel(\"Number of Species\", fontsize=14)\n",
    "ax.set_xticks(range(len(cons_status_list)))\n",
    "ax.set_xticklabels(cons_status_list)\n",
    "plt.xticks(rotation=30, fontsize=10)\n",
    "plt.title(\"At Risk Species in U.S. National Parks\", fontsize=16)\n",
    "plt.show()\n",
    "plt.clf()"
   ],
   "metadata": {
    "collapsed": false
   }
  },
  {
   "cell_type": "markdown",
   "source": [
    "### I will plot another visualisation removing the 'Threatened' category"
   ],
   "metadata": {
    "collapsed": false
   }
  },
  {
   "cell_type": "code",
   "execution_count": 195,
   "outputs": [],
   "source": [
    "conservation_cat_two = species_data[(species_data.conservation_status != 'Least Concern')\n",
    "                    & (species_data.conservation_status != 'Threatened')]\\\n",
    "    .groupby(['conservation_status', 'category'])['scientific_name']\\\n",
    "    .count()\\\n",
    "    .unstack()"
   ],
   "metadata": {
    "collapsed": false
   }
  },
  {
   "cell_type": "code",
   "execution_count": 196,
   "outputs": [],
   "source": [
    "cons_status_list.remove('Threatened')"
   ],
   "metadata": {
    "collapsed": false
   }
  },
  {
   "cell_type": "code",
   "execution_count": 197,
   "outputs": [
    {
     "data": {
      "text/plain": "<Figure size 800x600 with 1 Axes>",
      "image/png": "[encoded data removed]"
     },
     "metadata": {},
     "output_type": "display_data"
    },
    {
     "data": {
      "text/plain": "<Figure size 640x480 with 0 Axes>"
     },
     "metadata": {},
     "output_type": "display_data"
    }
   ],
   "source": [
    "ax = conservation_cat_two.plot(kind='bar', figsize=(8,6),\n",
    "                           stacked=True)\n",
    "ax.set_xlabel(\"Conservation Status\", fontsize=12)\n",
    "ax.set_ylabel(\"Number of Species\", fontsize=14)\n",
    "ax.set_xticks(range(len(cons_status_list)))\n",
    "ax.set_xticklabels(cons_status_list)\n",
    "plt.xticks(rotation=30, fontsize=10)\n",
    "plt.title(\"At Risk Species in U.S. National Parks\", fontsize=16)\n",
    "plt.show()\n",
    "plt.clf()"
   ],
   "metadata": {
    "collapsed": false
   }
  },
  {
   "cell_type": "markdown",
   "source": [
    "It's clear 'Birds' are most at risk across the board in U.S. National Parks.\n",
    "&nbsp;\n",
    "- A lot of this visualisation can be cleared up.\n",
    "Especially with the list indexing code. Some is quite inefficient"
   ],
   "metadata": {
    "collapsed": false
   }
  },
  {
   "cell_type": "markdown",
   "source": [
    "### So are certain types of species more likely to be endangered?\n",
    "\n",
    "I will create a new column, `is_protected` to include any species with a value other than `Least Concern`."
   ],
   "metadata": {
    "collapsed": false
   }
  },
  {
   "cell_type": "code",
   "execution_count": 198,
   "outputs": [],
   "source": [
    "species_data['is_protected'] = species_data.conservation_status != 'Least Concern'"
   ],
   "metadata": {
    "collapsed": false
   }
  },
  {
   "cell_type": "code",
   "execution_count": 199,
   "outputs": [
    {
     "data": {
      "text/plain": "            category  not_protected  protected\n0          Amphibian             72          7\n1               Bird            413         75\n2               Fish            115         11\n3             Mammal            146         30\n4  Nonvascular Plant            328          5\n5            Reptile             73          5\n6     Vascular Plant           4216         46",
      "text/html": "<div>\n<style scoped>\n    .dataframe tbody tr th:only-of-type {\n        vertical-align: middle;\n    }\n\n    .dataframe tbody tr th {\n        vertical-align: top;\n    }\n\n    .dataframe thead th {\n        text-align: right;\n    }\n</style>\n<table border=\"1\" class=\"dataframe\">\n  <thead>\n    <tr style=\"text-align: right;\">\n      <th></th>\n      <th>category</th>\n      <th>not_protected</th>\n      <th>protected</th>\n    </tr>\n  </thead>\n  <tbody>\n    <tr>\n      <th>0</th>\n      <td>Amphibian</td>\n      <td>72</td>\n      <td>7</td>\n    </tr>\n    <tr>\n      <th>1</th>\n      <td>Bird</td>\n      <td>413</td>\n      <td>75</td>\n    </tr>\n    <tr>\n      <th>2</th>\n      <td>Fish</td>\n      <td>115</td>\n      <td>11</td>\n    </tr>\n    <tr>\n      <th>3</th>\n      <td>Mammal</td>\n      <td>146</td>\n      <td>30</td>\n    </tr>\n    <tr>\n      <th>4</th>\n      <td>Nonvascular Plant</td>\n      <td>328</td>\n      <td>5</td>\n    </tr>\n    <tr>\n      <th>5</th>\n      <td>Reptile</td>\n      <td>73</td>\n      <td>5</td>\n    </tr>\n    <tr>\n      <th>6</th>\n      <td>Vascular Plant</td>\n      <td>4216</td>\n      <td>46</td>\n    </tr>\n  </tbody>\n</table>\n</div>"
     },
     "execution_count": 199,
     "metadata": {},
     "output_type": "execute_result"
    }
   ],
   "source": [
    "category_counts = species_data.groupby(['category', 'is_protected'])\\\n",
    "                            .scientific_name.nunique()\\\n",
    "                            .reset_index()\\\n",
    "                            .pivot(columns='is_protected',\n",
    "                                      index='category',\n",
    "                                      values='scientific_name')\\\n",
    "                            .reset_index()\n",
    "category_counts.columns = ['category', 'not_protected', 'protected']\n",
    "\n",
    "category_counts"
   ],
   "metadata": {
    "collapsed": false
   }
  },
  {
   "cell_type": "markdown",
   "source": [
    "Will at a column `percent_protected` that shows the rate of protection"
   ],
   "metadata": {
    "collapsed": false
   }
  },
  {
   "cell_type": "code",
   "execution_count": 106,
   "outputs": [
    {
     "data": {
      "text/plain": "            category  not_protected  protected  percent_protected\n0          Amphibian             72          7               8.86\n1               Bird            413         75              15.37\n2               Fish            115         11               8.73\n3             Mammal            146         30              17.05\n4  Nonvascular Plant            328          5               1.50\n5            Reptile             73          5               6.41\n6     Vascular Plant           4216         46               1.08",
      "text/html": "<div>\n<style scoped>\n    .dataframe tbody tr th:only-of-type {\n        vertical-align: middle;\n    }\n\n    .dataframe tbody tr th {\n        vertical-align: top;\n    }\n\n    .dataframe thead th {\n        text-align: right;\n    }\n</style>\n<table border=\"1\" class=\"dataframe\">\n  <thead>\n    <tr style=\"text-align: right;\">\n      <th></th>\n      <th>category</th>\n      <th>not_protected</th>\n      <th>protected</th>\n      <th>percent_protected</th>\n    </tr>\n  </thead>\n  <tbody>\n    <tr>\n      <th>0</th>\n      <td>Amphibian</td>\n      <td>72</td>\n      <td>7</td>\n      <td>8.86</td>\n    </tr>\n    <tr>\n      <th>1</th>\n      <td>Bird</td>\n      <td>413</td>\n      <td>75</td>\n      <td>15.37</td>\n    </tr>\n    <tr>\n      <th>2</th>\n      <td>Fish</td>\n      <td>115</td>\n      <td>11</td>\n      <td>8.73</td>\n    </tr>\n    <tr>\n      <th>3</th>\n      <td>Mammal</td>\n      <td>146</td>\n      <td>30</td>\n      <td>17.05</td>\n    </tr>\n    <tr>\n      <th>4</th>\n      <td>Nonvascular Plant</td>\n      <td>328</td>\n      <td>5</td>\n      <td>1.50</td>\n    </tr>\n    <tr>\n      <th>5</th>\n      <td>Reptile</td>\n      <td>73</td>\n      <td>5</td>\n      <td>6.41</td>\n    </tr>\n    <tr>\n      <th>6</th>\n      <td>Vascular Plant</td>\n      <td>4216</td>\n      <td>46</td>\n      <td>1.08</td>\n    </tr>\n  </tbody>\n</table>\n</div>"
     },
     "execution_count": 106,
     "metadata": {},
     "output_type": "execute_result"
    }
   ],
   "source": [
    "percentage = round(category_counts.protected / (category_counts.protected + category_counts.not_protected) * 100, 2)\n",
    "\n",
    "category_counts['percent_protected'] = percentage\n",
    "category_counts"
   ],
   "metadata": {
    "collapsed": false
   }
  },
  {
   "cell_type": "markdown",
   "source": [
    "----"
   ],
   "metadata": {
    "collapsed": false
   }
  },
  {
   "cell_type": "markdown",
   "source": [
    "# Species Exploration"
   ],
   "metadata": {
    "collapsed": false
   }
  },
  {
   "cell_type": "markdown",
   "source": [
    "### Wolves"
   ],
   "metadata": {
    "collapsed": false
   }
  },
  {
   "cell_type": "markdown",
   "source": [
    "I fill first explore the genus [Canis](https://en.wikipedia.org/wiki/Canis) which includes;\n",
    "wolves, dogs, coyotes and jackals."
   ],
   "metadata": {
    "collapsed": false
   }
  },
  {
   "cell_type": "code",
   "execution_count": 108,
   "outputs": [
    {
     "data": {
      "text/plain": "     category scientific_name     common_names conservation_status  \\\n7      Mammal   Canis latrans           Coyote  Species of Concern   \n8      Mammal     Canis lupus        Gray Wolf          Endangered   \n9      Mammal     Canis rufus         Red Wolf          Endangered   \n3020   Mammal     Canis lupus  Gray Wolf, Wolf         In Recovery   \n4448   Mammal     Canis lupus  Gray Wolf, Wolf          Endangered   \n\n      is_protected  is_canis  \n7             True      True  \n8             True      True  \n9             True      True  \n3020          True      True  \n4448          True      True  ",
      "text/html": "<div>\n<style scoped>\n    .dataframe tbody tr th:only-of-type {\n        vertical-align: middle;\n    }\n\n    .dataframe tbody tr th {\n        vertical-align: top;\n    }\n\n    .dataframe thead th {\n        text-align: right;\n    }\n</style>\n<table border=\"1\" class=\"dataframe\">\n  <thead>\n    <tr style=\"text-align: right;\">\n      <th></th>\n      <th>category</th>\n      <th>scientific_name</th>\n      <th>common_names</th>\n      <th>conservation_status</th>\n      <th>is_protected</th>\n      <th>is_canis</th>\n    </tr>\n  </thead>\n  <tbody>\n    <tr>\n      <th>7</th>\n      <td>Mammal</td>\n      <td>Canis latrans</td>\n      <td>Coyote</td>\n      <td>Species of Concern</td>\n      <td>True</td>\n      <td>True</td>\n    </tr>\n    <tr>\n      <th>8</th>\n      <td>Mammal</td>\n      <td>Canis lupus</td>\n      <td>Gray Wolf</td>\n      <td>Endangered</td>\n      <td>True</td>\n      <td>True</td>\n    </tr>\n    <tr>\n      <th>9</th>\n      <td>Mammal</td>\n      <td>Canis rufus</td>\n      <td>Red Wolf</td>\n      <td>Endangered</td>\n      <td>True</td>\n      <td>True</td>\n    </tr>\n    <tr>\n      <th>3020</th>\n      <td>Mammal</td>\n      <td>Canis lupus</td>\n      <td>Gray Wolf, Wolf</td>\n      <td>In Recovery</td>\n      <td>True</td>\n      <td>True</td>\n    </tr>\n    <tr>\n      <th>4448</th>\n      <td>Mammal</td>\n      <td>Canis lupus</td>\n      <td>Gray Wolf, Wolf</td>\n      <td>Endangered</td>\n      <td>True</td>\n      <td>True</td>\n    </tr>\n  </tbody>\n</table>\n</div>"
     },
     "execution_count": 108,
     "metadata": {},
     "output_type": "execute_result"
    }
   ],
   "source": [
    "species_data['is_canis'] = species_data.scientific_name.str.contains(r\"\\bCanis\\b\", regex=True)\n",
    "species_data[species_data.is_canis]"
   ],
   "metadata": {
    "collapsed": false
   }
  },
  {
   "cell_type": "markdown",
   "source": [
    "They are all protected.\n",
    "\n",
    "However, there are not many species represented.\n",
    "Could be an element of disambuiguity with the common name taking different values\n",
    "`Gray Wolf` is represented three times with different conservation status...\n",
    "\n",
    "Data cleaning needs to happen before exploring another Genus"
   ],
   "metadata": {
    "collapsed": false
   }
  },
  {
   "cell_type": "markdown",
   "source": [
    "----"
   ],
   "metadata": {
    "collapsed": false
   }
  },
  {
   "cell_type": "markdown",
   "source": [
    "### Big Cats"
   ],
   "metadata": {
    "collapsed": false
   }
  },
  {
   "cell_type": "markdown",
   "source": [
    "I will first explore any hits under `common_name` 'cat' or 'lion'"
   ],
   "metadata": {
    "collapsed": false
   }
  },
  {
   "cell_type": "code",
   "execution_count": 117,
   "outputs": [
    {
     "data": {
      "text/plain": "            category       scientific_name  \\\n14            Mammal      Felis silvestris   \n858   Vascular Plant  Hypochaeris radicata   \n3577  Vascular Plant  Cryptantha torreyana   \n4062  Vascular Plant          Picea glauca   \n4798  Vascular Plant    Hypochaeris glabra   \n4799  Vascular Plant  Hypochaeris radicata   \n\n                                           common_names conservation_status  \\\n14                                    Wild Cat, Wildcat       Least Concern   \n858                        Cat's Ear, Spotted Cat's-Ear       Least Concern   \n3577            Torrey's Cat's-Eye, Torrey's Cryptantha       Least Concern   \n4062  Black Hills Spruce, Canadian Spruce, Cat Spruc...       Least Concern   \n4798                   Smooth Cat's Ear, Smooth Catsear       Least Concern   \n4799  Common Cat's-Ear, False Dandelion, Frogbit, Go...       Least Concern   \n\n      is_protected  is_canis  big_cat   lion   cat  \n14           False     False     True  False  True  \n858          False     False     True  False  True  \n3577         False     False     True  False  True  \n4062         False     False     True  False  True  \n4798         False     False     True  False  True  \n4799         False     False     True  False  True  ",
      "text/html": "<div>\n<style scoped>\n    .dataframe tbody tr th:only-of-type {\n        vertical-align: middle;\n    }\n\n    .dataframe tbody tr th {\n        vertical-align: top;\n    }\n\n    .dataframe thead th {\n        text-align: right;\n    }\n</style>\n<table border=\"1\" class=\"dataframe\">\n  <thead>\n    <tr style=\"text-align: right;\">\n      <th></th>\n      <th>category</th>\n      <th>scientific_name</th>\n      <th>common_names</th>\n      <th>conservation_status</th>\n      <th>is_protected</th>\n      <th>is_canis</th>\n      <th>big_cat</th>\n      <th>lion</th>\n      <th>cat</th>\n    </tr>\n  </thead>\n  <tbody>\n    <tr>\n      <th>14</th>\n      <td>Mammal</td>\n      <td>Felis silvestris</td>\n      <td>Wild Cat, Wildcat</td>\n      <td>Least Concern</td>\n      <td>False</td>\n      <td>False</td>\n      <td>True</td>\n      <td>False</td>\n      <td>True</td>\n    </tr>\n    <tr>\n      <th>858</th>\n      <td>Vascular Plant</td>\n      <td>Hypochaeris radicata</td>\n      <td>Cat's Ear, Spotted Cat's-Ear</td>\n      <td>Least Concern</td>\n      <td>False</td>\n      <td>False</td>\n      <td>True</td>\n      <td>False</td>\n      <td>True</td>\n    </tr>\n    <tr>\n      <th>3577</th>\n      <td>Vascular Plant</td>\n      <td>Cryptantha torreyana</td>\n      <td>Torrey's Cat's-Eye, Torrey's Cryptantha</td>\n      <td>Least Concern</td>\n      <td>False</td>\n      <td>False</td>\n      <td>True</td>\n      <td>False</td>\n      <td>True</td>\n    </tr>\n    <tr>\n      <th>4062</th>\n      <td>Vascular Plant</td>\n      <td>Picea glauca</td>\n      <td>Black Hills Spruce, Canadian Spruce, Cat Spruc...</td>\n      <td>Least Concern</td>\n      <td>False</td>\n      <td>False</td>\n      <td>True</td>\n      <td>False</td>\n      <td>True</td>\n    </tr>\n    <tr>\n      <th>4798</th>\n      <td>Vascular Plant</td>\n      <td>Hypochaeris glabra</td>\n      <td>Smooth Cat's Ear, Smooth Catsear</td>\n      <td>Least Concern</td>\n      <td>False</td>\n      <td>False</td>\n      <td>True</td>\n      <td>False</td>\n      <td>True</td>\n    </tr>\n    <tr>\n      <th>4799</th>\n      <td>Vascular Plant</td>\n      <td>Hypochaeris radicata</td>\n      <td>Common Cat's-Ear, False Dandelion, Frogbit, Go...</td>\n      <td>Least Concern</td>\n      <td>False</td>\n      <td>False</td>\n      <td>True</td>\n      <td>False</td>\n      <td>True</td>\n    </tr>\n  </tbody>\n</table>\n</div>"
     },
     "execution_count": 117,
     "metadata": {},
     "output_type": "execute_result"
    }
   ],
   "source": [
    "species_data['cat'] = species_data.common_names.str.contains(r\"\\bCat\\b\", regex=True)\n",
    "species_data[species_data.cat]"
   ],
   "metadata": {
    "collapsed": false
   }
  },
  {
   "cell_type": "markdown",
   "source": [
    "Hit one cat and five plants..."
   ],
   "metadata": {
    "collapsed": false
   }
  },
  {
   "cell_type": "code",
   "execution_count": 118,
   "outputs": [
    {
     "data": {
      "text/plain": "            category          scientific_name  \\\n13            Mammal           Felis concolor   \n16            Mammal            Puma concolor   \n897   Vascular Plant   Prenanthes serpentaria   \n898   Vascular Plant  Prenanthes trifoliolata   \n3022          Mammal            Puma concolor   \n4451          Mammal            Puma concolor   \n\n                                    common_names conservation_status  \\\n13                                 Mountain Lion       Least Concern   \n16                       Panther (Mountain Lion)       Least Concern   \n897                 Lion's-Foot, Rattlesnakeroot       Least Concern   \n898   Lion's Foot, Three-Leaved Rattlesnake-Root       Least Concern   \n3022                 Cougar, Mountain Lion, Puma       Least Concern   \n4451                               Mountain Lion       Least Concern   \n\n      is_protected  is_canis  big_cat  lion    cat  \n13           False     False    False  True  False  \n16           False     False    False  True  False  \n897          False     False    False  True  False  \n898          False     False    False  True  False  \n3022         False     False    False  True  False  \n4451         False     False    False  True  False  ",
      "text/html": "<div>\n<style scoped>\n    .dataframe tbody tr th:only-of-type {\n        vertical-align: middle;\n    }\n\n    .dataframe tbody tr th {\n        vertical-align: top;\n    }\n\n    .dataframe thead th {\n        text-align: right;\n    }\n</style>\n<table border=\"1\" class=\"dataframe\">\n  <thead>\n    <tr style=\"text-align: right;\">\n      <th></th>\n      <th>category</th>\n      <th>scientific_name</th>\n      <th>common_names</th>\n      <th>conservation_status</th>\n      <th>is_protected</th>\n      <th>is_canis</th>\n      <th>big_cat</th>\n      <th>lion</th>\n      <th>cat</th>\n    </tr>\n  </thead>\n  <tbody>\n    <tr>\n      <th>13</th>\n      <td>Mammal</td>\n      <td>Felis concolor</td>\n      <td>Mountain Lion</td>\n      <td>Least Concern</td>\n      <td>False</td>\n      <td>False</td>\n      <td>False</td>\n      <td>True</td>\n      <td>False</td>\n    </tr>\n    <tr>\n      <th>16</th>\n      <td>Mammal</td>\n      <td>Puma concolor</td>\n      <td>Panther (Mountain Lion)</td>\n      <td>Least Concern</td>\n      <td>False</td>\n      <td>False</td>\n      <td>False</td>\n      <td>True</td>\n      <td>False</td>\n    </tr>\n    <tr>\n      <th>897</th>\n      <td>Vascular Plant</td>\n      <td>Prenanthes serpentaria</td>\n      <td>Lion's-Foot, Rattlesnakeroot</td>\n      <td>Least Concern</td>\n      <td>False</td>\n      <td>False</td>\n      <td>False</td>\n      <td>True</td>\n      <td>False</td>\n    </tr>\n    <tr>\n      <th>898</th>\n      <td>Vascular Plant</td>\n      <td>Prenanthes trifoliolata</td>\n      <td>Lion's Foot, Three-Leaved Rattlesnake-Root</td>\n      <td>Least Concern</td>\n      <td>False</td>\n      <td>False</td>\n      <td>False</td>\n      <td>True</td>\n      <td>False</td>\n    </tr>\n    <tr>\n      <th>3022</th>\n      <td>Mammal</td>\n      <td>Puma concolor</td>\n      <td>Cougar, Mountain Lion, Puma</td>\n      <td>Least Concern</td>\n      <td>False</td>\n      <td>False</td>\n      <td>False</td>\n      <td>True</td>\n      <td>False</td>\n    </tr>\n    <tr>\n      <th>4451</th>\n      <td>Mammal</td>\n      <td>Puma concolor</td>\n      <td>Mountain Lion</td>\n      <td>Least Concern</td>\n      <td>False</td>\n      <td>False</td>\n      <td>False</td>\n      <td>True</td>\n      <td>False</td>\n    </tr>\n  </tbody>\n</table>\n</div>"
     },
     "execution_count": 118,
     "metadata": {},
     "output_type": "execute_result"
    }
   ],
   "source": [
    "species_data['lion'] = species_data.common_names.str.contains(r\"\\bLion\\b\", regex=True)\n",
    "species_data[species_data.lion]"
   ],
   "metadata": {
    "collapsed": false
   }
  },
  {
   "cell_type": "markdown",
   "source": [
    "More disambuiguity with `lion`\n",
    "Puma concolor has been refered at as \"Panther, Cougar, Mountain Lion, Puma\"\n",
    "Felis concolor has also been refered to as a \"Mountain Lion\""
   ],
   "metadata": {
    "collapsed": false
   }
  },
  {
   "cell_type": "markdown",
   "source": [
    "Let's see if there are any more hits for the genus [Felis](https://en.wikipedia.org/wiki/Felis)"
   ],
   "metadata": {
    "collapsed": false
   }
  },
  {
   "cell_type": "code",
   "execution_count": 119,
   "outputs": [
    {
     "data": {
      "text/plain": "   category   scientific_name       common_names conservation_status  \\\n13   Mammal    Felis concolor      Mountain Lion       Least Concern   \n14   Mammal  Felis silvestris  Wild Cat, Wildcat       Least Concern   \n\n    is_protected  is_canis  big_cat   lion    cat  is_felis  \n13         False     False    False   True  False      True  \n14         False     False     True  False   True      True  ",
      "text/html": "<div>\n<style scoped>\n    .dataframe tbody tr th:only-of-type {\n        vertical-align: middle;\n    }\n\n    .dataframe tbody tr th {\n        vertical-align: top;\n    }\n\n    .dataframe thead th {\n        text-align: right;\n    }\n</style>\n<table border=\"1\" class=\"dataframe\">\n  <thead>\n    <tr style=\"text-align: right;\">\n      <th></th>\n      <th>category</th>\n      <th>scientific_name</th>\n      <th>common_names</th>\n      <th>conservation_status</th>\n      <th>is_protected</th>\n      <th>is_canis</th>\n      <th>big_cat</th>\n      <th>lion</th>\n      <th>cat</th>\n      <th>is_felis</th>\n    </tr>\n  </thead>\n  <tbody>\n    <tr>\n      <th>13</th>\n      <td>Mammal</td>\n      <td>Felis concolor</td>\n      <td>Mountain Lion</td>\n      <td>Least Concern</td>\n      <td>False</td>\n      <td>False</td>\n      <td>False</td>\n      <td>True</td>\n      <td>False</td>\n      <td>True</td>\n    </tr>\n    <tr>\n      <th>14</th>\n      <td>Mammal</td>\n      <td>Felis silvestris</td>\n      <td>Wild Cat, Wildcat</td>\n      <td>Least Concern</td>\n      <td>False</td>\n      <td>False</td>\n      <td>True</td>\n      <td>False</td>\n      <td>True</td>\n      <td>True</td>\n    </tr>\n  </tbody>\n</table>\n</div>"
     },
     "execution_count": 119,
     "metadata": {},
     "output_type": "execute_result"
    }
   ],
   "source": [
    "species_data['is_felis'] = species_data.scientific_name.str.contains(r\"\\bFelis\\b\", regex=True)\n",
    "species_data[species_data.is_felis]"
   ],
   "metadata": {
    "collapsed": false
   }
  },
  {
   "cell_type": "markdown",
   "source": [
    "----\n",
    "#### Milestone\n",
    "\n",
    "The disambuiguity suggests members of the public are potentially 'self-reporting' observations and maybe they do not know what they have seen at all! - This is an assumption"
   ],
   "metadata": {
    "collapsed": false
   }
  },
  {
   "cell_type": "markdown",
   "source": [
    "Will remove the newly created columns to 'clean' `species_data`"
   ],
   "metadata": {
    "collapsed": false
   }
  },
  {
   "cell_type": "code",
   "execution_count": 120,
   "outputs": [
    {
     "data": {
      "text/plain": "  category                scientific_name  \\\n0   Mammal  Clethrionomys gapperi gapperi   \n1   Mammal                      Bos bison   \n2   Mammal                     Bos taurus   \n3   Mammal                     Ovis aries   \n4   Mammal                 Cervus elaphus   \n\n                                        common_names conservation_status  \\\n0                           Gapper's Red-Backed Vole       Least Concern   \n1                              American Bison, Bison       Least Concern   \n2  Aurochs, Aurochs, Domestic Cattle (Feral), Dom...       Least Concern   \n3  Domestic Sheep, Mouflon, Red Sheep, Sheep (Feral)       Least Concern   \n4                                      Wapiti Or Elk       Least Concern   \n\n   is_protected  is_canis  big_cat   lion    cat  is_felis  \n0         False     False    False  False  False     False  \n1         False     False    False  False  False     False  \n2         False     False    False  False  False     False  \n3         False     False    False  False  False     False  \n4         False     False    False  False  False     False  ",
      "text/html": "<div>\n<style scoped>\n    .dataframe tbody tr th:only-of-type {\n        vertical-align: middle;\n    }\n\n    .dataframe tbody tr th {\n        vertical-align: top;\n    }\n\n    .dataframe thead th {\n        text-align: right;\n    }\n</style>\n<table border=\"1\" class=\"dataframe\">\n  <thead>\n    <tr style=\"text-align: right;\">\n      <th></th>\n      <th>category</th>\n      <th>scientific_name</th>\n      <th>common_names</th>\n      <th>conservation_status</th>\n      <th>is_protected</th>\n      <th>is_canis</th>\n      <th>big_cat</th>\n      <th>lion</th>\n      <th>cat</th>\n      <th>is_felis</th>\n    </tr>\n  </thead>\n  <tbody>\n    <tr>\n      <th>0</th>\n      <td>Mammal</td>\n      <td>Clethrionomys gapperi gapperi</td>\n      <td>Gapper's Red-Backed Vole</td>\n      <td>Least Concern</td>\n      <td>False</td>\n      <td>False</td>\n      <td>False</td>\n      <td>False</td>\n      <td>False</td>\n      <td>False</td>\n    </tr>\n    <tr>\n      <th>1</th>\n      <td>Mammal</td>\n      <td>Bos bison</td>\n      <td>American Bison, Bison</td>\n      <td>Least Concern</td>\n      <td>False</td>\n      <td>False</td>\n      <td>False</td>\n      <td>False</td>\n      <td>False</td>\n      <td>False</td>\n    </tr>\n    <tr>\n      <th>2</th>\n      <td>Mammal</td>\n      <td>Bos taurus</td>\n      <td>Aurochs, Aurochs, Domestic Cattle (Feral), Dom...</td>\n      <td>Least Concern</td>\n      <td>False</td>\n      <td>False</td>\n      <td>False</td>\n      <td>False</td>\n      <td>False</td>\n      <td>False</td>\n    </tr>\n    <tr>\n      <th>3</th>\n      <td>Mammal</td>\n      <td>Ovis aries</td>\n      <td>Domestic Sheep, Mouflon, Red Sheep, Sheep (Feral)</td>\n      <td>Least Concern</td>\n      <td>False</td>\n      <td>False</td>\n      <td>False</td>\n      <td>False</td>\n      <td>False</td>\n      <td>False</td>\n    </tr>\n    <tr>\n      <th>4</th>\n      <td>Mammal</td>\n      <td>Cervus elaphus</td>\n      <td>Wapiti Or Elk</td>\n      <td>Least Concern</td>\n      <td>False</td>\n      <td>False</td>\n      <td>False</td>\n      <td>False</td>\n      <td>False</td>\n      <td>False</td>\n    </tr>\n  </tbody>\n</table>\n</div>"
     },
     "execution_count": 120,
     "metadata": {},
     "output_type": "execute_result"
    }
   ],
   "source": [
    "species_data.head()"
   ],
   "metadata": {
    "collapsed": false
   }
  },
  {
   "cell_type": "code",
   "execution_count": 127,
   "outputs": [
    {
     "data": {
      "text/plain": "  category                scientific_name  \\\n0   Mammal  Clethrionomys gapperi gapperi   \n1   Mammal                      Bos bison   \n2   Mammal                     Bos taurus   \n3   Mammal                     Ovis aries   \n4   Mammal                 Cervus elaphus   \n\n                                        common_names conservation_status  \\\n0                           Gapper's Red-Backed Vole       Least Concern   \n1                              American Bison, Bison       Least Concern   \n2  Aurochs, Aurochs, Domestic Cattle (Feral), Dom...       Least Concern   \n3  Domestic Sheep, Mouflon, Red Sheep, Sheep (Feral)       Least Concern   \n4                                      Wapiti Or Elk       Least Concern   \n\n   is_protected  \n0         False  \n1         False  \n2         False  \n3         False  \n4         False  ",
      "text/html": "<div>\n<style scoped>\n    .dataframe tbody tr th:only-of-type {\n        vertical-align: middle;\n    }\n\n    .dataframe tbody tr th {\n        vertical-align: top;\n    }\n\n    .dataframe thead th {\n        text-align: right;\n    }\n</style>\n<table border=\"1\" class=\"dataframe\">\n  <thead>\n    <tr style=\"text-align: right;\">\n      <th></th>\n      <th>category</th>\n      <th>scientific_name</th>\n      <th>common_names</th>\n      <th>conservation_status</th>\n      <th>is_protected</th>\n    </tr>\n  </thead>\n  <tbody>\n    <tr>\n      <th>0</th>\n      <td>Mammal</td>\n      <td>Clethrionomys gapperi gapperi</td>\n      <td>Gapper's Red-Backed Vole</td>\n      <td>Least Concern</td>\n      <td>False</td>\n    </tr>\n    <tr>\n      <th>1</th>\n      <td>Mammal</td>\n      <td>Bos bison</td>\n      <td>American Bison, Bison</td>\n      <td>Least Concern</td>\n      <td>False</td>\n    </tr>\n    <tr>\n      <th>2</th>\n      <td>Mammal</td>\n      <td>Bos taurus</td>\n      <td>Aurochs, Aurochs, Domestic Cattle (Feral), Dom...</td>\n      <td>Least Concern</td>\n      <td>False</td>\n    </tr>\n    <tr>\n      <th>3</th>\n      <td>Mammal</td>\n      <td>Ovis aries</td>\n      <td>Domestic Sheep, Mouflon, Red Sheep, Sheep (Feral)</td>\n      <td>Least Concern</td>\n      <td>False</td>\n    </tr>\n    <tr>\n      <th>4</th>\n      <td>Mammal</td>\n      <td>Cervus elaphus</td>\n      <td>Wapiti Or Elk</td>\n      <td>Least Concern</td>\n      <td>False</td>\n    </tr>\n  </tbody>\n</table>\n</div>"
     },
     "execution_count": 127,
     "metadata": {},
     "output_type": "execute_result"
    }
   ],
   "source": [
    "species_data.drop(columns=['is_canis', 'big_cat', 'lion', 'cat', 'is_felis'], axis=1, inplace=True)\n",
    "species_data.head()"
   ],
   "metadata": {
    "collapsed": false
   }
  },
  {
   "cell_type": "markdown",
   "source": [
    "----"
   ],
   "metadata": {
    "collapsed": false
   }
  },
  {
   "cell_type": "markdown",
   "source": [
    "## Birds of Prey"
   ],
   "metadata": {
    "collapsed": false
   }
  },
  {
   "cell_type": "code",
   "execution_count": 131,
   "outputs": [
    {
     "name": "stdout",
     "output_type": "stream",
     "text": [
      "   category     scientific_name         common_names conservation_status  \\\n",
      "91     Bird  Accipiter cooperii        Cooper's Hawk  Species of Concern   \n",
      "93     Bird  Accipiter striatus   Sharp-Shinned Hawk  Species of Concern   \n",
      "94     Bird   Aquila chrysaetos         Golden Eagle  Species of Concern   \n",
      "96     Bird      Buteo lineatus  Red-Shouldered Hawk  Species of Concern   \n",
      "98     Bird      Circus cyaneus     Northern Harrier  Species of Concern   \n",
      "\n",
      "    is_protected  \n",
      "91          True  \n",
      "93          True  \n",
      "94          True  \n",
      "96          True  \n",
      "98          True  \n",
      "\n",
      "There are 79 protected bird species in the Dataframe\n"
     ]
    }
   ],
   "source": [
    "protected_birds = (species_data[(species_data.category == 'Bird')\\\n",
    "                                & (species_data.conservation_status != 'Least Concern')])\n",
    "print(protected_birds.head())\n",
    "print(f\"\\nThere are {len(protected_birds)} protected bird species in the Dataframe\")"
   ],
   "metadata": {
    "collapsed": false
   }
  },
  {
   "cell_type": "markdown",
   "source": [
    "I want to isolate birds of prey.\n",
    "\n",
    "Need to do research and create a list of the common names of American birds of prey.\n",
    "For example, [Eagle, Hawk, etc...](https://en.wikipedia.org/wiki/Bird_of_prey)\n",
    "\n",
    "There is a chance I may miss entries with this method"
   ],
   "metadata": {
    "collapsed": false
   }
  },
  {
   "cell_type": "code",
   "execution_count": 143,
   "outputs": [],
   "source": [
    "birds_of_prey = [\"Eagle\", \"Hawk\", \"Falcon\", \"Buzzard\", \"Harrier\", \"Kite\", \"Owl\", \"Osprey\", \"Vulture\", \"Condor\"]"
   ],
   "metadata": {
    "collapsed": false
   }
  },
  {
   "cell_type": "code",
   "execution_count": 152,
   "outputs": [
    {
     "name": "stdout",
     "output_type": "stream",
     "text": [
      "   category     scientific_name         common_names conservation_status  \\\n",
      "91     Bird  Accipiter cooperii        Cooper's Hawk  Species of Concern   \n",
      "93     Bird  Accipiter striatus   Sharp-Shinned Hawk  Species of Concern   \n",
      "94     Bird   Aquila chrysaetos         Golden Eagle  Species of Concern   \n",
      "96     Bird      Buteo lineatus  Red-Shouldered Hawk  Species of Concern   \n",
      "98     Bird      Circus cyaneus     Northern Harrier  Species of Concern   \n",
      "\n",
      "    is_protected bird_of_prey  \n",
      "91          True       [Hawk]  \n",
      "93          True       [Hawk]  \n",
      "94          True      [Eagle]  \n",
      "96          True       [Hawk]  \n",
      "98          True    [Harrier]  \n",
      "(79, 6)\n"
     ]
    }
   ],
   "source": [
    "species_data['bird_of_prey'] = species_data.common_names.str.findall('(?i)({0})'.format('|'.join(birds_of_prey)))\n",
    "protected_birds = (species_data[(species_data.category == 'Bird')\\\n",
    "                                & (species_data.conservation_status != 'Least Concern')])\n",
    "print(protected_birds.head())\n",
    "print(protected_birds.shape)"
   ],
   "metadata": {
    "collapsed": false
   }
  },
  {
   "cell_type": "code",
   "execution_count": 159,
   "outputs": [
    {
     "name": "stdout",
     "output_type": "stream",
     "text": [
      "We have 18 protected birds of prey                \n",
      "\n",
      "With Common Names:\n",
      "\n",
      "[\"Cooper's Hawk\", 'Sharp-Shinned Hawk', 'Golden Eagle', 'Red-Shouldered Hawk', 'Northern Harrier', 'American Swallow-Tailed Kite, Swallow-Tailed Kite', 'Bald Eagle', 'Turkey Vulture', 'Osprey', 'Peregrine Falcon', 'Short-Eared Owl', 'Long-Eared Owl', 'Rough-Legged Hawk', 'Osprey, Western Osprey', 'Prairie Falcon', 'American Peregrine Falcon', 'White-Tailed Kite', 'California Condor']\n"
     ]
    }
   ],
   "source": [
    "protected_birds_prey = protected_birds[protected_birds['bird_of_prey'].map(lambda d: len(d)) > 0]\n",
    "protected_birds_prey_list = protected_birds_prey.common_names.tolist()\n",
    "print(f\"We have {len(protected_birds_prey_list)} protected birds of prey\\\n",
    "                \\n\\nWith Common Names:\\n\\n{protected_birds_prey_list}\")"
   ],
   "metadata": {
    "collapsed": false
   }
  },
  {
   "cell_type": "markdown",
   "source": [
    "`protected_birds` will be merged with `obs_data` to create a Dataframe `protected_birds_obs` with observations of protected birds across the four national parks"
   ],
   "metadata": {
    "collapsed": false
   }
  },
  {
   "cell_type": "code",
   "execution_count": 167,
   "outputs": [
    {
     "name": "stdout",
     "output_type": "stream",
     "text": [
      "      scientific_name                            park_name  observations  \\\n",
      "0  Accipiter cooperii                  Bryce National Park            95   \n",
      "1  Accipiter cooperii               Yosemite National Park           138   \n",
      "2  Accipiter cooperii            Yellowstone National Park           245   \n",
      "3  Accipiter cooperii  Great Smoky Mountains National Park            65   \n",
      "4   Pandion haliaetus               Yosemite National Park           134   \n",
      "\n",
      "  category   common_names conservation_status  is_protected bird_of_prey  \n",
      "0     Bird  Cooper's Hawk  Species of Concern          True       [Hawk]  \n",
      "1     Bird  Cooper's Hawk  Species of Concern          True       [Hawk]  \n",
      "2     Bird  Cooper's Hawk  Species of Concern          True       [Hawk]  \n",
      "3     Bird  Cooper's Hawk  Species of Concern          True       [Hawk]  \n",
      "4     Bird         Osprey  Species of Concern          True     [Osprey]  \n"
     ]
    }
   ],
   "source": [
    "protected_birds_obs = obs_data.merge(protected_birds[protected_birds.is_protected])\n",
    "print(protected_birds_obs.head())"
   ],
   "metadata": {
    "collapsed": false
   }
  },
  {
   "cell_type": "code",
   "execution_count": 173,
   "outputs": [
    {
     "name": "stdout",
     "output_type": "stream",
     "text": [
      "      scientific_name                            park_name  observations  \\\n",
      "0  Accipiter cooperii                  Bryce National Park            95   \n",
      "1  Accipiter cooperii               Yosemite National Park           138   \n",
      "2  Accipiter cooperii            Yellowstone National Park           245   \n",
      "3  Accipiter cooperii  Great Smoky Mountains National Park            65   \n",
      "4   Pandion haliaetus               Yosemite National Park           134   \n",
      "\n",
      "  category   common_names conservation_status  is_protected bird_of_prey  \n",
      "0     Bird  Cooper's Hawk  Species of Concern          True       [Hawk]  \n",
      "1     Bird  Cooper's Hawk  Species of Concern          True       [Hawk]  \n",
      "2     Bird  Cooper's Hawk  Species of Concern          True       [Hawk]  \n",
      "3     Bird  Cooper's Hawk  Species of Concern          True       [Hawk]  \n",
      "4     Bird         Osprey  Species of Concern          True     [Osprey]  \n"
     ]
    }
   ],
   "source": [
    "protected_birds_prey_obs = protected_birds_obs[protected_birds_obs['bird_of_prey'].map(lambda d: len(d)) > 0]\n",
    "print(protected_birds_prey_obs.head())"
   ],
   "metadata": {
    "collapsed": false
   }
  },
  {
   "cell_type": "markdown",
   "source": [],
   "metadata": {
    "collapsed": false
   }
  },
  {
   "cell_type": "code",
   "execution_count": 171,
   "outputs": [
    {
     "name": "stdout",
     "output_type": "stream",
     "text": [
      "                             park_name  observations\n",
      "0                  Bryce National Park          7608\n",
      "1  Great Smoky Mountains National Park          5297\n",
      "2            Yellowstone National Park         18526\n",
      "3               Yosemite National Park         11293\n"
     ]
    }
   ],
   "source": [
    "bird_obs_by_park = protected_birds_obs.groupby('park_name').observations.sum().reset_index()\n",
    "print(bird_obs_by_park)"
   ],
   "metadata": {
    "collapsed": false
   }
  },
  {
   "cell_type": "code",
   "execution_count": 177,
   "outputs": [
    {
     "name": "stdout",
     "output_type": "stream",
     "text": [
      "                             park_name  observations  percentage_observations\n",
      "0                  Bryce National Park          1626                    17.61\n",
      "1  Great Smoky Mountains National Park          1140                    17.71\n",
      "2            Yellowstone National Park          4244                    18.64\n",
      "3               Yosemite National Park          2508                    18.17\n"
     ]
    }
   ],
   "source": [
    "bird_prey_obs_by_park = protected_birds_prey_obs.groupby('park_name').observations.sum().reset_index()\n",
    "\n",
    "percentage_prey_obs = round(bird_prey_obs_by_park.observations / (bird_obs_by_park.observations + bird_prey_obs_by_park.observations) * 100, 2)\n",
    "bird_prey_obs_by_park['percentage_observations'] = percentage_prey_obs\n",
    "\n",
    "print(bird_prey_obs_by_park)"
   ],
   "metadata": {
    "collapsed": false
   }
  },
  {
   "cell_type": "markdown",
   "source": [
    "----"
   ],
   "metadata": {
    "collapsed": false
   }
  },
  {
   "cell_type": "markdown",
   "source": [
    "# Need to create some visualisations of species of bird of prey by park sighting"
   ],
   "metadata": {
    "collapsed": false
   }
  },
  {
   "cell_type": "markdown",
   "source": [],
   "metadata": {
    "collapsed": false
   }
  }
 ],
 "metadata": {
  "kernelspec": {
   "display_name": "Python 3",
   "language": "python",
   "name": "python3"
  },
  "language_info": {
   "codemirror_mode": {
    "name": "ipython",
    "version": 3
   },
   "file_extension": ".py",
   "mimetype": "text/x-python",
   "name": "python",
   "nbconvert_exporter": "python",
   "pygments_lexer": "ipython3",
   "version": "3.7.6"
  }
 },
 "nbformat": 4,
 "nbformat_minor": 4
}
