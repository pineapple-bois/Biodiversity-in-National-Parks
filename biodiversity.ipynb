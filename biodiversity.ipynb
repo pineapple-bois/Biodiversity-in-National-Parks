{
 "cells": [
  {
   "cell_type": "markdown",
   "source": [
    "# Biodiversity in U.S. National Parks"
   ],
   "metadata": {
    "collapsed": false
   }
  },
  {
   "cell_type": "markdown",
   "source": [
    "Importing the necessary modules"
   ],
   "metadata": {
    "collapsed": false
   }
  },
  {
   "cell_type": "code",
   "execution_count": 1,
   "metadata": {},
   "outputs": [],
   "source": [
    "import pandas as pd\n",
    "import matplotlib.pyplot as plt\n",
    "import numpy as np\n",
    "import seaborn as sns"
   ]
  },
  {
   "cell_type": "markdown",
   "source": [
    "There may well be other but for now this will do...\n",
    "\n",
    "There are two .csv files to inspect"
   ],
   "metadata": {
    "collapsed": false
   }
  },
  {
   "cell_type": "markdown",
   "source": [
    "## Observations.csv\n",
    "\n",
    "will print:\n",
    "- head\n",
    "- shape\n",
    "- data types\n",
    "- unique values in columns\n"
   ],
   "metadata": {
    "collapsed": false
   }
  },
  {
   "cell_type": "code",
   "execution_count": 7,
   "outputs": [
    {
     "name": "stdout",
     "output_type": "stream",
     "text": [
      "Columns: ['scientific_name', 'park_name', 'observations']\n",
      "\n"
     ]
    }
   ],
   "source": [
    "obs_data = pd.read_csv(\"observations.csv\")\n",
    "print(f\"Columns: {obs_data.columns.tolist()}\\n\")"
   ],
   "metadata": {
    "collapsed": false
   }
  },
  {
   "cell_type": "code",
   "execution_count": 8,
   "outputs": [
    {
     "name": "stdout",
     "output_type": "stream",
     "text": [
      "            scientific_name                            park_name  observations\n",
      "0        Vicia benghalensis  Great Smoky Mountains National Park            68\n",
      "1            Neovison vison  Great Smoky Mountains National Park            77\n",
      "2         Prunus subcordata               Yosemite National Park           138\n",
      "3      Abutilon theophrasti                  Bryce National Park            84\n",
      "4  Githopsis specularioides  Great Smoky Mountains National Park            85\n"
     ]
    }
   ],
   "source": [
    "print(obs_data.head())"
   ],
   "metadata": {
    "collapsed": false
   }
  },
  {
   "cell_type": "code",
   "execution_count": 14,
   "outputs": [
    {
     "name": "stdout",
     "output_type": "stream",
     "text": [
      "(23296, 3)\n"
     ]
    }
   ],
   "source": [
    "print(obs_data.shape)"
   ],
   "metadata": {
    "collapsed": false
   }
  },
  {
   "cell_type": "code",
   "execution_count": 11,
   "outputs": [
    {
     "name": "stdout",
     "output_type": "stream",
     "text": [
      "scientific_name    object\n",
      "park_name          object\n",
      "observations        int64\n",
      "dtype: object\n"
     ]
    }
   ],
   "source": [
    "print(obs_data.dtypes)"
   ],
   "metadata": {
    "collapsed": false
   }
  },
  {
   "cell_type": "code",
   "execution_count": 19,
   "outputs": [
    {
     "name": "stdout",
     "output_type": "stream",
     "text": [
      "National Parks: ['Great Smoky Mountains National Park' 'Yosemite National Park'\n",
      " 'Bryce National Park' 'Yellowstone National Park']\n",
      "\n",
      "Unique Species: ['Vicia benghalensis' 'Neovison vison' 'Prunus subcordata' ...\n",
      " 'Ranunculus hebecarpus' 'Gulo gulo' 'Dichanthelium depauperatum']\n",
      "\n",
      "We have 5541 unique species\n"
     ]
    }
   ],
   "source": [
    "parks_list = obs_data.park_name.unique()\n",
    "print(f\"National Parks: {parks_list}\\n\")\n",
    "\n",
    "num_species_list = obs_data.scientific_name.unique()\n",
    "print(f\"Unique Species: {num_species_list}\\n\")\n",
    "\n",
    "print(f\"We have {len(num_species_list)} unique species\")"
   ],
   "metadata": {
    "collapsed": false
   }
  },
  {
   "cell_type": "markdown",
   "source": [
    "We have saved the list variables;\n",
    "\n",
    "### parks_list\n",
    "which is a list of the National parks.\n",
    "There are four, all in the United States\n",
    "\n",
    "### num_species_list\n",
    "which is a list of unique species."
   ],
   "metadata": {
    "collapsed": false
   }
  },
  {
   "cell_type": "markdown",
   "source": [
    "----"
   ],
   "metadata": {
    "collapsed": false
   }
  },
  {
   "cell_type": "markdown",
   "source": [
    "## species_info.csv\n",
    "\n",
    "will print:\n",
    "- head\n",
    "- shape\n",
    "- data types\n",
    "- unique values in columns\n"
   ],
   "metadata": {
    "collapsed": false
   }
  },
  {
   "cell_type": "code",
   "execution_count": 27,
   "outputs": [
    {
     "name": "stdout",
     "output_type": "stream",
     "text": [
      "Columns: ['category', 'scientific_name', 'common_names', 'conservation_status']\n"
     ]
    }
   ],
   "source": [
    "species_data = pd.read_csv(\"species_info.csv\")\n",
    "print(f\"Columns: {species_data.columns.tolist()}\")"
   ],
   "metadata": {
    "collapsed": false
   }
  },
  {
   "cell_type": "code",
   "execution_count": 21,
   "outputs": [
    {
     "name": "stdout",
     "output_type": "stream",
     "text": [
      "  category                scientific_name  \\\n",
      "0   Mammal  Clethrionomys gapperi gapperi   \n",
      "1   Mammal                      Bos bison   \n",
      "2   Mammal                     Bos taurus   \n",
      "3   Mammal                     Ovis aries   \n",
      "4   Mammal                 Cervus elaphus   \n",
      "\n",
      "                                        common_names conservation_status  \n",
      "0                           Gapper's Red-Backed Vole                 NaN  \n",
      "1                              American Bison, Bison                 NaN  \n",
      "2  Aurochs, Aurochs, Domestic Cattle (Feral), Dom...                 NaN  \n",
      "3  Domestic Sheep, Mouflon, Red Sheep, Sheep (Feral)                 NaN  \n",
      "4                                      Wapiti Or Elk                 NaN  \n"
     ]
    }
   ],
   "source": [
    "print(species_data.head())"
   ],
   "metadata": {
    "collapsed": false
   }
  },
  {
   "cell_type": "markdown",
   "source": [
    "We have a few interesting values.\n",
    "Category seems to be genus.\n",
    "we have scientific name -\n",
    "#### need to see if the number of unique values correlates with the other dataframe\n",
    "common names - there seem to be a number\n",
    "conservation status -\n",
    "#### need how many we have 'NaN' which i'm assuming means 'not endangered' - (could be bad assumption)"
   ],
   "metadata": {
    "collapsed": false
   }
  },
  {
   "cell_type": "code",
   "execution_count": 23,
   "outputs": [
    {
     "name": "stdout",
     "output_type": "stream",
     "text": [
      "Shape of the data: (5824, 4) (Tuple of (columns, rows))\n",
      "\n",
      "Type of data:\n",
      "category               object\n",
      "scientific_name        object\n",
      "common_names           object\n",
      "conservation_status    object\n",
      "dtype: object\n"
     ]
    }
   ],
   "source": [
    "print(f\"Shape of the data: {species_data.shape} (Tuple of (columns, rows))\\n\")\n",
    "print(f\"Type of data:\\n{species_data.dtypes}\")"
   ],
   "metadata": {
    "collapsed": false
   }
  },
  {
   "cell_type": "markdown",
   "source": [
    "It's useful to have a few of the unique column values saved as lists to better see what we're dealing with"
   ],
   "metadata": {
    "collapsed": false
   }
  },
  {
   "cell_type": "code",
   "execution_count": 26,
   "outputs": [
    {
     "name": "stdout",
     "output_type": "stream",
     "text": [
      "Categories/Genus: ['Mammal' 'Bird' 'Reptile' 'Amphibian' 'Fish' 'Vascular Plant'\n",
      " 'Nonvascular Plant']\n",
      "\n",
      "Unique Species (Scientific Name): 5541\n",
      "\n",
      "Unique Species (Common Name): 5504\n"
     ]
    }
   ],
   "source": [
    "category_list = species_data.category.unique()\n",
    "print(f\"Categories/Genus: {category_list}\\n\")\n",
    "\n",
    "sci_name_list = species_data.scientific_name.unique()\n",
    "print(f\"Unique Species (Scientific Name): {len(sci_name_list)}\\n\")\n",
    "\n",
    "com_name_list = species_data.common_names.unique()\n",
    "print(f\"Unique Species (Common Name): {len(com_name_list)}\")"
   ],
   "metadata": {
    "collapsed": false
   }
  },
  {
   "cell_type": "markdown",
   "source": [
    "I would expect the scientific name/common name to be the same length. There's a discrepancy\n",
    "Maybe some species haven't been given a 'common name'!"
   ],
   "metadata": {
    "collapsed": false
   }
  },
  {
   "cell_type": "markdown",
   "source": [],
   "metadata": {
    "collapsed": false
   }
  }
 ],
 "metadata": {
  "kernelspec": {
   "display_name": "Python 3",
   "language": "python",
   "name": "python3"
  },
  "language_info": {
   "codemirror_mode": {
    "name": "ipython",
    "version": 3
   },
   "file_extension": ".py",
   "mimetype": "text/x-python",
   "name": "python",
   "nbconvert_exporter": "python",
   "pygments_lexer": "ipython3",
   "version": "3.7.6"
  }
 },
 "nbformat": 4,
 "nbformat_minor": 4
}
